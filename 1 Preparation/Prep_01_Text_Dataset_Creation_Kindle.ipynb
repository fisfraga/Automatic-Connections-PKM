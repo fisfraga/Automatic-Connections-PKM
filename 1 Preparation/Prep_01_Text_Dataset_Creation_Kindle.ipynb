{
 "cells": [
  {
   "cell_type": "code",
   "execution_count": 1,
   "metadata": {},
   "outputs": [],
   "source": [
    "import pandas as pd\n",
    "\n",
    "from os import environ \n",
    "\n",
    "import json\n",
    "from urllib.error import HTTPError\n",
    "\n",
    "from os import listdir\n",
    "from os.path import isfile, join\n",
    "\n",
    "import pprint"
   ]
  },
  {
   "cell_type": "code",
   "execution_count": 2,
   "metadata": {},
   "outputs": [],
   "source": [
    "def remove_hashtags(text):\n",
    "\n",
    "\t#text = text.encode(\"ascii\", \"ignore\").decode()\n",
    "\t\n",
    "\treturn text.replace(\"#\", \"\").replace(\" cant \", \" can't \")\n",
    "\n",
    "def remove_symbols(text):\n",
    "\n",
    "\ttext = text.encode(\"ascii\", \"ignore\").decode()\n",
    "\t\n",
    "\treturn text.replace(\"#\", \"\")"
   ]
  },
  {
   "attachments": {},
   "cell_type": "markdown",
   "metadata": {},
   "source": [
    "## Create text_df"
   ]
  },
  {
   "cell_type": "code",
   "execution_count": 4,
   "metadata": {},
   "outputs": [],
   "source": [
    "df = pd.read_pickle(\"all_highlights_df.pkl\")"
   ]
  },
  {
   "cell_type": "code",
   "execution_count": 5,
   "metadata": {},
   "outputs": [
    {
     "data": {
      "text/html": [
       "<div>\n",
       "<style scoped>\n",
       "    .dataframe tbody tr th:only-of-type {\n",
       "        vertical-align: middle;\n",
       "    }\n",
       "\n",
       "    .dataframe tbody tr th {\n",
       "        vertical-align: top;\n",
       "    }\n",
       "\n",
       "    .dataframe thead th {\n",
       "        text-align: right;\n",
       "    }\n",
       "</style>\n",
       "<table border=\"1\" class=\"dataframe\">\n",
       "  <thead>\n",
       "    <tr style=\"text-align: right;\">\n",
       "      <th></th>\n",
       "      <th>resource_id</th>\n",
       "      <th>resource_title</th>\n",
       "      <th>author</th>\n",
       "      <th>text</th>\n",
       "      <th>note</th>\n",
       "      <th>location</th>\n",
       "      <th>date</th>\n",
       "      <th>category</th>\n",
       "      <th>cover_image_url</th>\n",
       "      <th>source_url</th>\n",
       "      <th>color</th>\n",
       "      <th>url</th>\n",
       "      <th>is_favorite</th>\n",
       "    </tr>\n",
       "  </thead>\n",
       "  <tbody>\n",
       "    <tr>\n",
       "      <th>590605098</th>\n",
       "      <td>31828755</td>\n",
       "      <td>The PARA Method: Simplify, Organise and Master...</td>\n",
       "      <td>Tiago Forte</td>\n",
       "      <td>In contrast, PARA is “platform agnostic,” mean...</td>\n",
       "      <td></td>\n",
       "      <td>658.0</td>\n",
       "      <td>2023-09-03T15:17:15.626Z</td>\n",
       "      <td>books</td>\n",
       "      <td>https://m.media-amazon.com/images/I/61n2ppUc1A...</td>\n",
       "      <td>None</td>\n",
       "      <td>yellow</td>\n",
       "      <td>None</td>\n",
       "      <td>False</td>\n",
       "    </tr>\n",
       "    <tr>\n",
       "      <th>590635938</th>\n",
       "      <td>31828755</td>\n",
       "      <td>The PARA Method: Simplify, Organise and Master...</td>\n",
       "      <td>Tiago Forte</td>\n",
       "      <td>How to Use PARA to Give You a Sense of Perspec...</td>\n",
       "      <td></td>\n",
       "      <td>1118.0</td>\n",
       "      <td>2023-09-03T16:17:20.486Z</td>\n",
       "      <td>books</td>\n",
       "      <td>https://m.media-amazon.com/images/I/61n2ppUc1A...</td>\n",
       "      <td>None</td>\n",
       "      <td>yellow</td>\n",
       "      <td>None</td>\n",
       "      <td>False</td>\n",
       "    </tr>\n",
       "    <tr>\n",
       "      <th>590635939</th>\n",
       "      <td>31828755</td>\n",
       "      <td>The PARA Method: Simplify, Organise and Master...</td>\n",
       "      <td>Tiago Forte</td>\n",
       "      <td>Why is it useful to segment your information b...</td>\n",
       "      <td></td>\n",
       "      <td>1123.0</td>\n",
       "      <td>2023-09-03T16:17:20.486Z</td>\n",
       "      <td>books</td>\n",
       "      <td>https://m.media-amazon.com/images/I/61n2ppUc1A...</td>\n",
       "      <td>None</td>\n",
       "      <td>yellow</td>\n",
       "      <td>None</td>\n",
       "      <td>False</td>\n",
       "    </tr>\n",
       "    <tr>\n",
       "      <th>590584777</th>\n",
       "      <td>31828755</td>\n",
       "      <td>The PARA Method: Simplify, Organise and Master...</td>\n",
       "      <td>Tiago Forte</td>\n",
       "      <td>But most of all, the ideal organizational syst...</td>\n",
       "      <td></td>\n",
       "      <td>100.0</td>\n",
       "      <td>2023-09-03T14:13:15.057Z</td>\n",
       "      <td>books</td>\n",
       "      <td>https://m.media-amazon.com/images/I/61n2ppUc1A...</td>\n",
       "      <td>None</td>\n",
       "      <td>yellow</td>\n",
       "      <td>None</td>\n",
       "      <td>False</td>\n",
       "    </tr>\n",
       "    <tr>\n",
       "      <th>590584778</th>\n",
       "      <td>31828755</td>\n",
       "      <td>The PARA Method: Simplify, Organise and Master...</td>\n",
       "      <td>Tiago Forte</td>\n",
       "      <td>PROJECTS Short-term efforts in your work or li...</td>\n",
       "      <td></td>\n",
       "      <td>117.0</td>\n",
       "      <td>2023-09-03T14:13:15.057Z</td>\n",
       "      <td>books</td>\n",
       "      <td>https://m.media-amazon.com/images/I/61n2ppUc1A...</td>\n",
       "      <td>None</td>\n",
       "      <td>yellow</td>\n",
       "      <td>None</td>\n",
       "      <td>False</td>\n",
       "    </tr>\n",
       "  </tbody>\n",
       "</table>\n",
       "</div>"
      ],
      "text/plain": [
       "           resource_id                                     resource_title  \\\n",
       "590605098     31828755  The PARA Method: Simplify, Organise and Master...   \n",
       "590635938     31828755  The PARA Method: Simplify, Organise and Master...   \n",
       "590635939     31828755  The PARA Method: Simplify, Organise and Master...   \n",
       "590584777     31828755  The PARA Method: Simplify, Organise and Master...   \n",
       "590584778     31828755  The PARA Method: Simplify, Organise and Master...   \n",
       "\n",
       "                author                                               text  \\\n",
       "590605098  Tiago Forte  In contrast, PARA is “platform agnostic,” mean...   \n",
       "590635938  Tiago Forte  How to Use PARA to Give You a Sense of Perspec...   \n",
       "590635939  Tiago Forte  Why is it useful to segment your information b...   \n",
       "590584777  Tiago Forte  But most of all, the ideal organizational syst...   \n",
       "590584778  Tiago Forte  PROJECTS Short-term efforts in your work or li...   \n",
       "\n",
       "          note  location                      date category  \\\n",
       "590605098          658.0  2023-09-03T15:17:15.626Z    books   \n",
       "590635938         1118.0  2023-09-03T16:17:20.486Z    books   \n",
       "590635939         1123.0  2023-09-03T16:17:20.486Z    books   \n",
       "590584777          100.0  2023-09-03T14:13:15.057Z    books   \n",
       "590584778          117.0  2023-09-03T14:13:15.057Z    books   \n",
       "\n",
       "                                             cover_image_url source_url  \\\n",
       "590605098  https://m.media-amazon.com/images/I/61n2ppUc1A...       None   \n",
       "590635938  https://m.media-amazon.com/images/I/61n2ppUc1A...       None   \n",
       "590635939  https://m.media-amazon.com/images/I/61n2ppUc1A...       None   \n",
       "590584777  https://m.media-amazon.com/images/I/61n2ppUc1A...       None   \n",
       "590584778  https://m.media-amazon.com/images/I/61n2ppUc1A...       None   \n",
       "\n",
       "            color   url  is_favorite  \n",
       "590605098  yellow  None        False  \n",
       "590635938  yellow  None        False  \n",
       "590635939  yellow  None        False  \n",
       "590584777  yellow  None        False  \n",
       "590584778  yellow  None        False  "
      ]
     },
     "execution_count": 5,
     "metadata": {},
     "output_type": "execute_result"
    }
   ],
   "source": [
    "df.head()"
   ]
  },
  {
   "attachments": {},
   "cell_type": "markdown",
   "metadata": {},
   "source": [
    "### Read df"
   ]
  },
  {
   "cell_type": "code",
   "execution_count": 6,
   "metadata": {},
   "outputs": [],
   "source": [
    "\n",
    "\n",
    "df = pd.read_pickle(\"all_highlights_df.pkl\")\n",
    "\n",
    "# Create all_tweets DataFrame\n",
    "column_names = [\"Resource ID\", \"Resource Title\", \"Author Name\", \"Text\", \"Note\", \"Location\", \"Date\", \"Resource Category\", \"Cover Image\", \"Source URL\", \"Highlight Color\", \"Reader URL\", \"Favorite\"]\n",
    "\n",
    "df.columns=column_names\n"
   ]
  },
  {
   "cell_type": "code",
   "execution_count": 7,
   "metadata": {},
   "outputs": [],
   "source": [
    "def remove_hashtags(text):\n",
    "\n",
    "\t#text = text.encode(\"ascii\", \"ignore\").decode()\n",
    "\t\n",
    "\treturn text.replace(\"#\", \"\").replace(\" cant \", \" can't \")\n",
    "\n",
    "def remove_symbols(text):\n",
    "\n",
    "\ttext = text.encode(\"ascii\", \"ignore\").decode()\n",
    "\t\n",
    "\treturn text.replace(\"#\", \"\")"
   ]
  },
  {
   "cell_type": "code",
   "execution_count": 8,
   "metadata": {},
   "outputs": [],
   "source": [
    "df['Text'] = df[\"Text\"].apply(remove_hashtags)\n",
    "df['Resource Title'] = df[\"Resource Title\"].apply(remove_symbols)\n",
    "\n",
    "df[\"Highlight ID\"] = df.index\n"
   ]
  },
  {
   "cell_type": "code",
   "execution_count": 9,
   "metadata": {},
   "outputs": [],
   "source": [
    "df =  df[df[\"Resource Category\"].str.contains(\"tweet\")==False]"
   ]
  },
  {
   "cell_type": "code",
   "execution_count": null,
   "metadata": {},
   "outputs": [],
   "source": []
  },
  {
   "attachments": {},
   "cell_type": "markdown",
   "metadata": {},
   "source": [
    "### Remove Books"
   ]
  },
  {
   "cell_type": "code",
   "execution_count": 10,
   "metadata": {},
   "outputs": [],
   "source": [
    "wordlist = [\"Psicologia Financeira\", \"Mensageiro\", \"Introdução\", \n",
    "\"Programmer\", \"Micro-\", \"Breath\", \"Readwise\", \"Mindvalley\",\n",
    " \"Matemtica\", \"Influence People\", \"Anatomy of Arousal\", \"Light Emerging\", \"Orgasmic\", \"Lifespan\"]\n",
    "\n",
    "\n",
    "for word in wordlist:\n",
    "\n",
    "\tdf =  df[df[\"Resource Title\"].str.contains(word)==False]\n"
   ]
  },
  {
   "cell_type": "code",
   "execution_count": 11,
   "metadata": {},
   "outputs": [],
   "source": [
    "df.sort_index(inplace=True)\n",
    "\n",
    "for indexx, row in df.iterrows():\n",
    "\ttext = row[3]\n",
    "\n",
    "\tcaps = ['YOU', 'TRUTH', 'FEAR', 'THAT', 'REALLY', 'AM']\n",
    "\tif any(x in text for x in caps):\n",
    "\t\ttext = text.capitalize()\n",
    "\trow[3] = text\n",
    "\n",
    "\n"
   ]
  },
  {
   "attachments": {},
   "cell_type": "markdown",
   "metadata": {},
   "source": [
    "### Choose Books"
   ]
  },
  {
   "cell_type": "code",
   "execution_count": 12,
   "metadata": {},
   "outputs": [],
   "source": [
    "\n",
    "categories = {'books':[], 'podcasts':[], 'articles':[], 'supplementals':[]}\n",
    "\n",
    "for index, row in df.iterrows():\n",
    "\n",
    "\tcat = row['Resource Category']\n",
    "\tname = row['Resource Title']\n",
    "\n",
    "\tif name not in categories[cat]:\n",
    "\t\tcategories[cat].append(name)\n",
    "\t\tcategories[cat].sort()\n",
    "\n",
    "\n",
    "\t\n",
    "\n",
    "\n",
    "\n",
    "\n"
   ]
  },
  {
   "cell_type": "code",
   "execution_count": 13,
   "metadata": {},
   "outputs": [
    {
     "name": "stdout",
     "output_type": "stream",
     "text": [
      "\n",
      " books \n",
      "\n",
      "$100M Offers: How To Make Offers So Good People Feel Stupid Saying No\n",
      "10x Is Easier Than 2x: How World-Class Entrepreneurs Achieve More by Doing Less\n",
      "A New Science of Heaven: How the new science of plasma physics is shedding light on spiritual experience\n",
      "A psicologia financeira: lies atemporais sobre fortuna, ganncia e felicidade (Portuguese Edition)\n",
      "As a Man Thinketh\n",
      "Be Your Brand Second Edition: From Unknown To Unforgettable In 60 Days\n",
      "Be Your Future Self Now: The Science of Intentional Transformation\n",
      "Building a Second Brain: A Proven Method to Organize Your Digital Life and Unlock Your Creative Potential\n",
      "Can't Hurt Me: Master Your Mind and Defy the Odds\n",
      "Company of One: Why Staying Small Is the Next Big Thing for Business\n",
      "Courage Is Calling: Fortune Favours the Brave\n",
      "Feel the Fear and Do It Anyway: Dynamic techniques for turning Fear, Indecision and Anger into Power, Action and Love\n",
      "How to Read a Book (A Touchstone Book)\n",
      "How to Take Smart Notes: One Simple Technique to Boost Writing,  Learning and Thinking  for Students, Academics and Nonfiction Book Writers\n",
      "Instructional Design that Soars: Shaping What You Know Into Classes That Inspire\n",
      "Limitless: Upgrade Your Brain, Learn Anything Faster, and Unlock Your Exceptional Life\n",
      "Measure What Matters: How Google, Bono, and the Gates Foundation Rock the World with OKRs\n",
      "PHILOMATH: The Geometric Unification of Science & Art Through Number\n",
      "Signs: The secret language of the universe\n",
      "Storyworthy: Engage, Teach, Persuade, and Change Your Life through the Power of Storytelling\n",
      "Stress Less, Accomplish More: Meditation for Extraordinary Performance\n",
      "Super Attractor: Methods for Manifesting a Life beyond Your Wildest Dreams\n",
      "Tempo: timing, tactics and strategy in narrative-driven decision-making\n",
      "The Almanack of Naval Ravikant: A Guide to Wealth and Happiness\n",
      "The Big Leap: Conquer Your Hidden Fear and Take Life to the Next Level\n",
      "The Everyday Hero Manifesto: Activate Your Positivity, Maximize Your Productivity, Serve the World\n",
      "The Four Agreements: A Practical Guide to Personal Freedom (A Toltec Wisdom Book)\n",
      "The Gap and The Gain: The High Achievers' Guide to Happiness, Confidence, and Success\n",
      "The Gene Keys: Unlocking the Higher Purpose Hidden in Your DNA\n",
      "The Knowledge Illusion: The myth of individual thought and the power of collective wisdom\n",
      "The Miracle Equation: The Two Decisions That Move Your Biggest Goals from Possible, to Probable, to  Inevitable\n",
      "The Obstacle is the Way: The Ancient Art of Turning Adversity to Advantage\n",
      "The PARA Method: Simplify, Organise and Master Your Digital Life\n",
      "The Power of Habit: Why We Do What We Do in Life and Business\n",
      "The Seven Spiritual Laws of Success: A Practical Guide to the Fulfillment of Your Dreams\n",
      "The Soul of Money: Transforming Your Relationship with Money and Life\n",
      "The War of Art\n",
      "The Wim Hof Method: Activate Your Full Human Potential\n",
      "The Wisdom Codes: Ancient Words to Rewire Our Brains and Heal Our Hearts\n",
      "Thinking in Systems: A Primer\n",
      "Tiny Habits: The Small Changes That Change Everything\n",
      "Why Information Grows: The Evolution of Order, from Atoms to Economies\n",
      "\n",
      " podcasts \n",
      "\n",
      "4 Powerful Tools to Boost Your Productivity - Tiago Forte\n",
      "5 Steps To Take For A Better Sleep - Dr. Michael Breus\n",
      "Endurance for the Soul   How to Build Your Spiritual Stamina - Ben Greenfield\n",
      "How to Optimize Your Brain-Body Function & Health | Episode 30\n",
      "Ryan Muller: Fractal Inquiry, Spaced Repetition, Education\n",
      "Tiago Forte // Building a Second Brain in Practice + Sustained Behavior Change\n",
      "\n",
      " articles \n",
      "\n",
      " How I've made $89,726 online (FULL breakdown)\n",
      "10 Steps to Become a Millionaire in 5 Years (or Less)\n",
      "4 Strategies I Built Into My Notion Task Manager That Embeds Slow Productivity Principles Into My\n",
      "5-Minute_Courses\n",
      "A Brief History & Ethos of the Digital Garden\n",
      "Be a Goldfish  Glen Lubbert\n",
      "Beginner's Guide: The First 30 Days Using a Notes App | Pick Your Notes App (Part 4)\n",
      "Benjamin Hardy, Mediums Most Popular Writer, Shares the Three Keys to Writing Great Non-Fiction\n",
      "Digital Garden Mastery Manual\n",
      "DragonDreaming_eBook_english_V02.09\n",
      "Exactly 1 year ago, I wrote my first post on...\n",
      "Had my mind blown by @evielync recently\n",
      "Inventing the Digital Filing Cabinet\n",
      "Knowledge Management in Tana\n",
      "NoodleNodes Series: TanaThe Everything OS\n",
      "OKRs and 4DX\n",
      "Replace Your To-Do List With Interstitial Journaling To Increase Productivity\n",
      "Replace Your To-Do List With Interstitial Journaling To Increase Productivity | by Coach Tony | Better Humans\n",
      "The 1 Reason To Set \"Unrealistic\" Goals (And It's Not Achieving The Goal)\n",
      "The Social Life of Genes - Pacific Standard\n",
      "The Systems View of Life\n",
      "The Untethered Soul: The Roadmap of My Personal Growth - Part 1\n",
      "The worlds worst boss\n",
      "Thought Leadership Mastery Manual\n",
      "Thought_Leadership_Mastery_Manual\n",
      "Want to set yourself up for a successful week?\n",
      "add2node-api - Tana Community - 1 new item - Slack\n",
      "bush1945we\n",
      "exploring the dark houses in astrology : the 12th house w Bear Ryver\n",
      "\n",
      " supplementals \n",
      "\n",
      "Captivate: The Science of Succeeding with People\n",
      "Getting Things Done: The Art of Stress-Free Productivity\n",
      "Influence: The Psychology of Persuasion (Collins Business Essentials)\n",
      "LSD and the Mind of the Universe: Diamonds from Heaven\n",
      "Storyworthy: Engage, Teach, Persuade, and Change Your Life through the Power of Storytelling\n",
      "Stress Less, Accomplish More: Meditation for Extraordinary Performance\n",
      "The 5 AM Club: Own Your Morning. Elevate Your Life.\n",
      "The Achievement Habit: Stop Wishing, Start Doing, and Take Command of Your Life\n",
      "The Big Leap: Conquer Your Hidden Fear and Take Life to the Next Level\n",
      "The Biology of Belief 10th Anniversary Edition: Unleashing the Power of Consciousness, Matter & Miracles\n",
      "The Code of the Extraordinary Mind: 10 Unconventional Laws to Redefine Your Life and Succeed On Your Own Terms\n",
      "The Compound Effect\n",
      "The Magic of Thinking Big\n",
      "The Organized Mind: Thinking Straight in the Age of Information Overload\n",
      "Tiny Habits: The Small Changes That Change Everything\n",
      "Why Information Grows: The Evolution of Order, from Atoms to Economies\n",
      "Willpower Doesn't Work: Discover the Hidden Keys to Success\n"
     ]
    }
   ],
   "source": [
    "for category in categories.keys():\n",
    "\tprint('\\n', category, '\\n')\n",
    "\tprint(\"\\n\".join(categories[category]))"
   ]
  },
  {
   "attachments": {},
   "cell_type": "markdown",
   "metadata": {},
   "source": [
    "### Book Selection"
   ]
  },
  {
   "cell_type": "markdown",
   "metadata": {},
   "source": [
    "# Choose Books Here ↓"
   ]
  },
  {
   "cell_type": "code",
   "execution_count": 19,
   "metadata": {},
   "outputs": [],
   "source": [
    "resource_names = [\n",
    "\t\n",
    "\t'Building a Second Brain: A Proven Method to Organize Your Digital Life and Unlock Your Creative Potential',\n",
    "\t\n",
    "\t'Thought Leadership Mastery Manual',\n",
    "\t'Thought_Leadership_Mastery_Manual',\n",
    "\t'A Brief History & Ethos of the Digital Garden',\n",
    "\t'Digital Garden Mastery Manual',\n",
    "\t'How to Read a Book (A Touchstone Book)',\n",
    "\n",
    "\t'Tempo: timing, tactics and strategy in narrative-driven decision-making',\n",
    "\t'4 Powerful Tools to Boost Your Productivity - Tiago Forte',\n",
    "\n",
    "\t'How to Take Smart Notes: One Simple Technique to Boost Writing,  Learning and Thinking  for Students, Academics and Nonfiction Book Writers'\n",
    "]"
   ]
  },
  {
   "cell_type": "code",
   "execution_count": 20,
   "metadata": {},
   "outputs": [],
   "source": [
    "resource_names = [\n",
    "\t'The Knowledge Illusion: The myth of individual thought and the power of collective wisdom',\n",
    "\t'Building a Second Brain: A Proven Method to Organize Your Digital Life and Unlock Your Creative Potential',\n",
    "\t'The PARA Method: Simplify, Organise and Master Your Digital Life',\n",
    "\t\n",
    "\t'Why Information Grows: The Evolution of Order, from Atoms to Economies',\n",
    "\n",
    "\t'How to Take Smart Notes: One Simple Technique to Boost Writing,  Learning and Thinking  for Students, Academics and Nonfiction Book Writers'\n",
    "]"
   ]
  },
  {
   "cell_type": "code",
   "execution_count": 15,
   "metadata": {},
   "outputs": [],
   "source": [
    "resource_names = [\n",
    "\t'The Knowledge Illusion: The myth of individual thought and the power of collective wisdom',\n",
    "\n",
    "\t\n",
    "\t'Why Information Grows: The Evolution of Order, from Atoms to Economies',\n",
    "\n",
    "\n",
    "]"
   ]
  },
  {
   "cell_type": "code",
   "execution_count": 16,
   "metadata": {},
   "outputs": [],
   "source": [
    "df = df[df[\"Resource Title\"].isin(resource_names)==True]\n",
    "\n",
    "\n",
    "df.rename(columns={\"Resource ID\":\"Father_ID\", \"Resource Title\":\"Father_name\", \"Author Name\":\"Author_name\", \"Highlight ID\":\"Text_ID\"})[[\"Father_ID\", \"Father_name\", \"Author_name\", \"Text\", \"Text_ID\"]].to_csv(\"text_df.csv\")\n",
    "\n"
   ]
  }
 ],
 "metadata": {
  "kernelspec": {
   "display_name": "Python 3.9.5 64-bit ('3.9.5')",
   "language": "python",
   "name": "python3"
  },
  "language_info": {
   "codemirror_mode": {
    "name": "ipython",
    "version": 3
   },
   "file_extension": ".py",
   "mimetype": "text/x-python",
   "name": "python",
   "nbconvert_exporter": "python",
   "pygments_lexer": "ipython3",
   "version": "3.9.12"
  },
  "orig_nbformat": 4,
  "vscode": {
   "interpreter": {
    "hash": "f3f4a90def8e5985f5e380d89f1d9d3afc37adf1761ef6e17ded9ba600e721fe"
   }
  }
 },
 "nbformat": 4,
 "nbformat_minor": 2
}
